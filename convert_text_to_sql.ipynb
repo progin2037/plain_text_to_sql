{
 "cells": [
  {
   "cell_type": "code",
   "execution_count": 1,
   "id": "25588b7d",
   "metadata": {},
   "outputs": [],
   "source": [
    "from openai import OpenAI\n",
    "from pydantic import BaseModel\n",
    "import pyodbc\n",
    "import json"
   ]
  },
  {
   "cell_type": "markdown",
   "id": "2450594c",
   "metadata": {},
   "source": [
    "# Set variables and output format for LLM"
   ]
  },
  {
   "cell_type": "code",
   "execution_count": 2,
   "id": "92434a7f",
   "metadata": {},
   "outputs": [],
   "source": [
    "# LLM output format\n",
    "class SqlOutput(BaseModel):\n",
    "    sql_query: str"
   ]
  },
  {
   "cell_type": "code",
   "execution_count": 3,
   "id": "3262623b",
   "metadata": {},
   "outputs": [],
   "source": [
    "MODEL = \"gpt-4o-2024-08-06\"  # you could also use \"gpt-4o-mini\", but its code generation quality is poorer"
   ]
  },
  {
   "cell_type": "code",
   "execution_count": 4,
   "id": "0a63f840",
   "metadata": {},
   "outputs": [],
   "source": [
    "# You could use below text to convert to SQL or replace it with your own\n",
    "text_to_translate = \"Provide a list of employees, their birthdays and age assuming it's 22th August 2024, \\\n",
    "including only employees hired between November-December 2007. Provide employee name, birthday and age\""
   ]
  },
  {
   "cell_type": "markdown",
   "id": "00c6f0ba",
   "metadata": {},
   "source": [
    "# Get table representation"
   ]
  },
  {
   "cell_type": "code",
   "execution_count": 5,
   "id": "d863dbf6",
   "metadata": {},
   "outputs": [],
   "source": [
    "DRIVER = 'SQL Server'\n",
    "SERVERNAME = <insert your servername>\n",
    "DATABASE = 'AdventureWorks'  # change your database if applicable\n",
    "CHOOSE_SCHEMA = True  # retrieve only schemas below (True) or get all SQL schemas (False)\n",
    "if CHOOSE_SCHEMA:\n",
    "    # Select schemas to retrieve, in order to provide less input to the prompt.\n",
    "    # Start and end with double quotation mark, each specified\n",
    "    # column should be surrounded with single quotation marks and each column should be\n",
    "    # separated with a comma\n",
    "    schemas = \"'Sales', 'Person', 'HumanResources'\"\n",
    "descr_cols = 'TABLE_SCHEMA, TABLE_NAME, COLUMN_NAME, DATA_TYPE'"
   ]
  },
  {
   "cell_type": "code",
   "execution_count": 6,
   "id": "495ab7ba",
   "metadata": {},
   "outputs": [],
   "source": [
    "# Initialize SQL connection\n",
    "con = pyodbc.connect(driver=DRIVER, server=SERVERNAME, database=DATABASE)"
   ]
  },
  {
   "cell_type": "code",
   "execution_count": 7,
   "id": "9bef9d4e",
   "metadata": {},
   "outputs": [],
   "source": [
    "# Query SQL to get database representation\n",
    "cur = con.cursor()\n",
    "if CHOOSE_SCHEMA:\n",
    "    db_cmd = f\"SELECT {descr_cols} FROM INFORMATION_SCHEMA.COLUMNS where TABLE_SCHEMA in ({schemas})\"\n",
    "else:\n",
    "    db_cmd = f\"SELECT {descr_cols} FROM INFORMATION_SCHEMA.COLUMNS\"\n",
    "results = cur.execute(db_cmd)"
   ]
  },
  {
   "cell_type": "code",
   "execution_count": 8,
   "id": "9ebc1df4",
   "metadata": {
    "scrolled": true
   },
   "outputs": [
    {
     "data": {
      "text/plain": [
       "'\\n# Code for generating table representation for other SQL dialects. Not tested!\\n\\nclient = OpenAI()\\n\\n#completion = client.chat.completions.create(\\ncompletion = client.beta.chat.completions.parse(\\n    model=MODEL,\\n    messages=[\\n        {\"role\": \"system\", \"content\": \"You are an expert is converting human language to SQL\"},\\n        {\"role\": \"user\", \"content\": f\"\"\"Create an SQL query to get a representation of all tables from a database.\\nIt should output the following columns: \\'TABLE_SCHEMA\\', \\'TABLE_NAME\\', \\'COLUMN_NAME\\' and \\'DATA_TYPE\\'.            \\nUse Oracle syntax.\\nKeep in mind that SQL doesn\\'t support new lines, so don\\'t use `\\n` in your output.\\nIt\\'s crucial that the generated code is compatible with SQL editors.\\nProvide only SQL code. It will be coppied to an SQL editor, so make sure that only necessary text is provided to not throw any errors in SQL.\\n\"\"\"\\n        }\\n    ],\\n    response_format=SqlOutput,\\n    temperature=0.0\\n)\\n\\ndb_cmd = json.loads(completion.choices[0].message.content)[\\'sql_query\\']\\n\\nprint(db_cmd)\\n\\ncur = con.cursor()\\nresults = cur.execute(db_cmd)\\n'"
      ]
     },
     "execution_count": 8,
     "metadata": {},
     "output_type": "execute_result"
    }
   ],
   "source": [
    "'''\n",
    "# Code for generating table representation for other SQL dialects. Not tested!\n",
    "\n",
    "client = OpenAI()\n",
    "\n",
    "#completion = client.chat.completions.create(\n",
    "completion = client.beta.chat.completions.parse(\n",
    "    model=MODEL,\n",
    "    messages=[\n",
    "        {\"role\": \"system\", \"content\": \"You are an expert is converting human language to SQL\"},\n",
    "        {\"role\": \"user\", \"content\": f\"\"\"Create an SQL query to get a representation of all tables from a database.\n",
    "It should output the following columns: 'TABLE_SCHEMA', 'TABLE_NAME', 'COLUMN_NAME' and 'DATA_TYPE'.            \n",
    "Use Oracle syntax.\n",
    "Keep in mind that SQL doesn't support new lines, so don't use `\\n` in your output.\n",
    "It's crucial that the generated code is compatible with SQL editors.\n",
    "Provide only SQL code. It will be coppied to an SQL editor, so make sure that only necessary text is provided to not \\\n",
    "throw any errors in SQL.\n",
    "\"\"\"\n",
    "        }\n",
    "    ],\n",
    "    response_format=SqlOutput,\n",
    "    temperature=0.0\n",
    ")\n",
    "\n",
    "db_cmd = json.loads(completion.choices[0].message.content)['sql_query']\n",
    "\n",
    "print(db_cmd)\n",
    "\n",
    "cur = con.cursor()\n",
    "results = cur.execute(db_cmd)\n",
    "'''"
   ]
  },
  {
   "cell_type": "code",
   "execution_count": 9,
   "id": "17d05738",
   "metadata": {},
   "outputs": [],
   "source": [
    "# Transform results to a list with string values\n",
    "table_descr = [str(row) for row in results]"
   ]
  },
  {
   "cell_type": "code",
   "execution_count": 10,
   "id": "988ae53e",
   "metadata": {},
   "outputs": [
    {
     "data": {
      "text/plain": [
       "443"
      ]
     },
     "execution_count": 10,
     "metadata": {},
     "output_type": "execute_result"
    }
   ],
   "source": [
    "# Number of columns to examine\n",
    "len(table_descr)"
   ]
  },
  {
   "cell_type": "code",
   "execution_count": 11,
   "id": "322b9463",
   "metadata": {
    "scrolled": true
   },
   "outputs": [
    {
     "data": {
      "text/plain": [
       "27140"
      ]
     },
     "execution_count": 11,
     "metadata": {},
     "output_type": "execute_result"
    }
   ],
   "source": [
    "# Number of characters\n",
    "len(str(table_descr))"
   ]
  },
  {
   "cell_type": "code",
   "execution_count": 12,
   "id": "40dd713c",
   "metadata": {
    "scrolled": true
   },
   "outputs": [
    {
     "data": {
      "text/plain": [
       "[\"('Person', 'Password', 'BusinessEntityID', 'int')\",\n",
       " \"('Person', 'Password', 'PasswordHash', 'varchar')\",\n",
       " \"('Person', 'Password', 'PasswordSalt', 'varchar')\",\n",
       " \"('Person', 'Password', 'rowguid', 'uniqueidentifier')\",\n",
       " \"('Person', 'Password', 'ModifiedDate', 'datetime')\",\n",
       " \"('Sales', 'SalesPersonQuotaHistory', 'BusinessEntityID', 'int')\",\n",
       " \"('Sales', 'SalesPersonQuotaHistory', 'QuotaDate', 'datetime')\",\n",
       " \"('Sales', 'SalesPersonQuotaHistory', 'SalesQuota', 'money')\",\n",
       " \"('Sales', 'SalesPersonQuotaHistory', 'rowguid', 'uniqueidentifier')\",\n",
       " \"('Sales', 'SalesPersonQuotaHistory', 'ModifiedDate', 'datetime')\",\n",
       " \"('Person', 'Person', 'BusinessEntityID', 'int')\",\n",
       " \"('Person', 'Person', 'PersonType', 'nchar')\",\n",
       " \"('Person', 'Person', 'NameStyle', 'bit')\",\n",
       " \"('Person', 'Person', 'Title', 'nvarchar')\",\n",
       " \"('Person', 'Person', 'FirstName', 'nvarchar')\",\n",
       " \"('Person', 'Person', 'MiddleName', 'nvarchar')\",\n",
       " \"('Person', 'Person', 'LastName', 'nvarchar')\",\n",
       " \"('Person', 'Person', 'Suffix', 'nvarchar')\",\n",
       " \"('Person', 'Person', 'EmailPromotion', 'int')\",\n",
       " \"('Person', 'Person', 'AdditionalContactInfo', 'xml')\",\n",
       " \"('Person', 'Person', 'Demographics', 'xml')\",\n",
       " \"('Person', 'Person', 'rowguid', 'uniqueidentifier')\",\n",
       " \"('Person', 'Person', 'ModifiedDate', 'datetime')\",\n",
       " \"('Sales', 'PersonCreditCard', 'BusinessEntityID', 'int')\",\n",
       " \"('Sales', 'PersonCreditCard', 'CreditCardID', 'int')\",\n",
       " \"('Sales', 'PersonCreditCard', 'ModifiedDate', 'datetime')\",\n",
       " \"('Person', 'vAdditionalContactInfo', 'BusinessEntityID', 'int')\",\n",
       " \"('Person', 'vAdditionalContactInfo', 'FirstName', 'nvarchar')\",\n",
       " \"('Person', 'vAdditionalContactInfo', 'MiddleName', 'nvarchar')\",\n",
       " \"('Person', 'vAdditionalContactInfo', 'LastName', 'nvarchar')\",\n",
       " \"('Person', 'vAdditionalContactInfo', 'TelephoneNumber', 'nvarchar')\",\n",
       " \"('Person', 'vAdditionalContactInfo', 'TelephoneSpecialInstructions', 'nvarchar')\",\n",
       " \"('Person', 'vAdditionalContactInfo', 'Street', 'nvarchar')\",\n",
       " \"('Person', 'vAdditionalContactInfo', 'City', 'nvarchar')\",\n",
       " \"('Person', 'vAdditionalContactInfo', 'StateProvince', 'nvarchar')\",\n",
       " \"('Person', 'vAdditionalContactInfo', 'PostalCode', 'nvarchar')\",\n",
       " \"('Person', 'vAdditionalContactInfo', 'CountryRegion', 'nvarchar')\",\n",
       " \"('Person', 'vAdditionalContactInfo', 'HomeAddressSpecialInstructions', 'nvarchar')\",\n",
       " \"('Person', 'vAdditionalContactInfo', 'EMailAddress', 'nvarchar')\",\n",
       " \"('Person', 'vAdditionalContactInfo', 'EMailSpecialInstructions', 'nvarchar')\",\n",
       " \"('Person', 'vAdditionalContactInfo', 'EMailTelephoneNumber', 'nvarchar')\",\n",
       " \"('Person', 'vAdditionalContactInfo', 'rowguid', 'uniqueidentifier')\",\n",
       " \"('Person', 'vAdditionalContactInfo', 'ModifiedDate', 'datetime')\",\n",
       " \"('Person', 'PersonPhone', 'BusinessEntityID', 'int')\",\n",
       " \"('Person', 'PersonPhone', 'PhoneNumber', 'nvarchar')\",\n",
       " \"('Person', 'PersonPhone', 'PhoneNumberTypeID', 'int')\",\n",
       " \"('Person', 'PersonPhone', 'ModifiedDate', 'datetime')\",\n",
       " \"('HumanResources', 'vEmployee', 'BusinessEntityID', 'int')\",\n",
       " \"('HumanResources', 'vEmployee', 'Title', 'nvarchar')\",\n",
       " \"('HumanResources', 'vEmployee', 'FirstName', 'nvarchar')\",\n",
       " \"('HumanResources', 'vEmployee', 'MiddleName', 'nvarchar')\",\n",
       " \"('HumanResources', 'vEmployee', 'LastName', 'nvarchar')\",\n",
       " \"('HumanResources', 'vEmployee', 'Suffix', 'nvarchar')\",\n",
       " \"('HumanResources', 'vEmployee', 'JobTitle', 'nvarchar')\",\n",
       " \"('HumanResources', 'vEmployee', 'PhoneNumber', 'nvarchar')\",\n",
       " \"('HumanResources', 'vEmployee', 'PhoneNumberType', 'nvarchar')\",\n",
       " \"('HumanResources', 'vEmployee', 'EmailAddress', 'nvarchar')\",\n",
       " \"('HumanResources', 'vEmployee', 'EmailPromotion', 'int')\",\n",
       " \"('HumanResources', 'vEmployee', 'AddressLine1', 'nvarchar')\",\n",
       " \"('HumanResources', 'vEmployee', 'AddressLine2', 'nvarchar')\",\n",
       " \"('HumanResources', 'vEmployee', 'City', 'nvarchar')\",\n",
       " \"('HumanResources', 'vEmployee', 'StateProvinceName', 'nvarchar')\",\n",
       " \"('HumanResources', 'vEmployee', 'PostalCode', 'nvarchar')\",\n",
       " \"('HumanResources', 'vEmployee', 'CountryRegionName', 'nvarchar')\",\n",
       " \"('HumanResources', 'vEmployee', 'AdditionalContactInfo', 'xml')\",\n",
       " \"('Sales', 'SalesTerritory', 'TerritoryID', 'int')\",\n",
       " \"('Sales', 'SalesTerritory', 'Name', 'nvarchar')\",\n",
       " \"('Sales', 'SalesTerritory', 'CountryRegionCode', 'nvarchar')\",\n",
       " \"('Sales', 'SalesTerritory', 'Group', 'nvarchar')\",\n",
       " \"('Sales', 'SalesTerritory', 'SalesYTD', 'money')\",\n",
       " \"('Sales', 'SalesTerritory', 'SalesLastYear', 'money')\",\n",
       " \"('Sales', 'SalesTerritory', 'CostYTD', 'money')\",\n",
       " \"('Sales', 'SalesTerritory', 'CostLastYear', 'money')\",\n",
       " \"('Sales', 'SalesTerritory', 'rowguid', 'uniqueidentifier')\",\n",
       " \"('Sales', 'SalesTerritory', 'ModifiedDate', 'datetime')\",\n",
       " \"('HumanResources', 'vEmployeeDepartment', 'BusinessEntityID', 'int')\",\n",
       " \"('HumanResources', 'vEmployeeDepartment', 'Title', 'nvarchar')\",\n",
       " \"('HumanResources', 'vEmployeeDepartment', 'FirstName', 'nvarchar')\",\n",
       " \"('HumanResources', 'vEmployeeDepartment', 'MiddleName', 'nvarchar')\",\n",
       " \"('HumanResources', 'vEmployeeDepartment', 'LastName', 'nvarchar')\",\n",
       " \"('HumanResources', 'vEmployeeDepartment', 'Suffix', 'nvarchar')\",\n",
       " \"('HumanResources', 'vEmployeeDepartment', 'JobTitle', 'nvarchar')\",\n",
       " \"('HumanResources', 'vEmployeeDepartment', 'Department', 'nvarchar')\",\n",
       " \"('HumanResources', 'vEmployeeDepartment', 'GroupName', 'nvarchar')\",\n",
       " \"('HumanResources', 'vEmployeeDepartment', 'StartDate', 'date')\",\n",
       " \"('Person', 'PhoneNumberType', 'PhoneNumberTypeID', 'int')\",\n",
       " \"('Person', 'PhoneNumberType', 'Name', 'nvarchar')\",\n",
       " \"('Person', 'PhoneNumberType', 'ModifiedDate', 'datetime')\",\n",
       " \"('HumanResources', 'vEmployeeDepartmentHistory', 'BusinessEntityID', 'int')\",\n",
       " \"('HumanResources', 'vEmployeeDepartmentHistory', 'Title', 'nvarchar')\",\n",
       " \"('HumanResources', 'vEmployeeDepartmentHistory', 'FirstName', 'nvarchar')\",\n",
       " \"('HumanResources', 'vEmployeeDepartmentHistory', 'MiddleName', 'nvarchar')\",\n",
       " \"('HumanResources', 'vEmployeeDepartmentHistory', 'LastName', 'nvarchar')\",\n",
       " \"('HumanResources', 'vEmployeeDepartmentHistory', 'Suffix', 'nvarchar')\",\n",
       " \"('HumanResources', 'vEmployeeDepartmentHistory', 'Shift', 'nvarchar')\",\n",
       " \"('HumanResources', 'vEmployeeDepartmentHistory', 'Department', 'nvarchar')\",\n",
       " \"('HumanResources', 'vEmployeeDepartmentHistory', 'GroupName', 'nvarchar')\",\n",
       " \"('HumanResources', 'vEmployeeDepartmentHistory', 'StartDate', 'date')\",\n",
       " \"('HumanResources', 'vEmployeeDepartmentHistory', 'EndDate', 'date')\",\n",
       " \"('Sales', 'vIndividualCustomer', 'BusinessEntityID', 'int')\"]"
      ]
     },
     "execution_count": 12,
     "metadata": {},
     "output_type": "execute_result"
    }
   ],
   "source": [
    "# First 100 columns summary\n",
    "table_descr[:100]"
   ]
  },
  {
   "cell_type": "markdown",
   "id": "34d23c63",
   "metadata": {},
   "source": [
    "# Generate SQL code"
   ]
  },
  {
   "cell_type": "code",
   "execution_count": 13,
   "id": "388b81b5",
   "metadata": {
    "scrolled": true
   },
   "outputs": [
    {
     "name": "stdout",
     "output_type": "stream",
     "text": [
      "SELECT CONCAT(p.FirstName, ' ', p.LastName) AS EmployeeName, e.BirthDate, DATEDIFF(YEAR, e.BirthDate, '2024-08-22') AS Age FROM HumanResources.Employee e JOIN Person.Person p ON e.BusinessEntityID = p.BusinessEntityID WHERE e.HireDate BETWEEN '2007-11-01' AND '2007-12-31'\n"
     ]
    }
   ],
   "source": [
    "client = OpenAI()\n",
    "\n",
    "completion = client.beta.chat.completions.parse(\n",
    "    model=MODEL,\n",
    "    messages=[\n",
    "        {\"role\": \"system\", \"content\": \"You are an expert is converting human language to SQL\"},\n",
    "        {\"role\": \"user\", \"content\": f\"\"\"Generate an SQL query based on instructions from the following text.\n",
    "Use {DRIVER} syntax.\n",
    "Keep in mind that SQL doesn't support new lines, so using \\n newline in your output is forbidden.\n",
    "It's crucial that the generated code is compatible with SQL editors.\n",
    "Text: {text_to_translate}.\n",
    "Use the SQL table representation below:\n",
    "Columns: {descr_cols}\n",
    "Values: {table_descr}\n",
    "\"\"\"\n",
    "        }\n",
    "    ],\n",
    "    response_format=SqlOutput,\n",
    "    temperature=0.0\n",
    ")\n",
    "\n",
    "output_query = json.loads(completion.choices[0].message.content)['sql_query']\n",
    "print(output_query)"
   ]
  },
  {
   "cell_type": "markdown",
   "id": "3f97a975",
   "metadata": {},
   "source": [
    "# Generate final SQL code with syntax check"
   ]
  },
  {
   "cell_type": "code",
   "execution_count": 14,
   "id": "2f7aba65",
   "metadata": {},
   "outputs": [
    {
     "name": "stdout",
     "output_type": "stream",
     "text": [
      "SELECT CONCAT(p.FirstName, ' ', p.LastName) AS EmployeeName, e.BirthDate, DATEDIFF(YEAR, e.BirthDate, '2024-08-22') AS Age FROM HumanResources.Employee e JOIN Person.Person p ON e.BusinessEntityID = p.BusinessEntityID WHERE e.HireDate BETWEEN '2007-11-01' AND '2007-12-31'\n"
     ]
    }
   ],
   "source": [
    "client = OpenAI()\n",
    "\n",
    "completion = client.beta.chat.completions.parse(\n",
    "    model=MODEL,\n",
    "    messages=[\n",
    "        {\"role\": \"system\", \"content\": \"You are an SQL quality code expert, specializing in correcting errors in code.\"},\n",
    "        {\"role\": \"user\", \"content\": f\"\"\"Check if the below SQL query is a correct code implementation \\\n",
    "based on the instructions and schema description below it.\n",
    "Make sure that {DRIVER} syntax was correctly implemented.\n",
    "Make sure that the generated code is compatible with SQL editors.\n",
    "\n",
    "Generate SQL query again, fixing errors if applicable or keeping the original code.\n",
    "Keep in mind that SQL doesn't support new lines, so don't use `\\n` in your output.\n",
    "It's crucial that the generated code is compatible with SQL editors.\n",
    "Generated code to correct: `{output_query}`\n",
    "Instructions: {text_to_translate}.\n",
    "Use the SQL table representation below:\n",
    "Columns: {descr_cols}\n",
    "Values: {table_descr}\n",
    "\"\"\"\n",
    "        }\n",
    "    ],\n",
    "    response_format=SqlOutput,\n",
    "    temperature=0.0\n",
    ")\n",
    "\n",
    "final_query = json.loads(completion.choices[0].message.content)['sql_query']\n",
    "print(final_query)"
   ]
  },
  {
   "cell_type": "code",
   "execution_count": null,
   "id": "738d43fc",
   "metadata": {},
   "outputs": [],
   "source": []
  }
 ],
 "metadata": {
  "kernelspec": {
   "display_name": "Python 3 (ipykernel)",
   "language": "python",
   "name": "python3"
  },
  "language_info": {
   "codemirror_mode": {
    "name": "ipython",
    "version": 3
   },
   "file_extension": ".py",
   "mimetype": "text/x-python",
   "name": "python",
   "nbconvert_exporter": "python",
   "pygments_lexer": "ipython3",
   "version": "3.10.13"
  },
  "toc": {
   "base_numbering": 1,
   "nav_menu": {},
   "number_sections": true,
   "sideBar": true,
   "skip_h1_title": false,
   "title_cell": "Table of Contents",
   "title_sidebar": "Contents",
   "toc_cell": false,
   "toc_position": {},
   "toc_section_display": true,
   "toc_window_display": false
  }
 },
 "nbformat": 4,
 "nbformat_minor": 5
}
